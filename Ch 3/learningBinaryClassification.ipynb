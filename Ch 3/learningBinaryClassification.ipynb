{
 "cells": [
  {
   "cell_type": "code",
   "execution_count": 1,
   "id": "9e85e32b",
   "metadata": {},
   "outputs": [],
   "source": [
    "import numpy as np\n",
    "import pandas as pd\n",
    "import matplotlib.pyplot as plt\n",
    "from sklearn import datasets\n",
    "%matplotlib inline"
   ]
  },
  {
   "cell_type": "code",
   "execution_count": 2,
   "id": "989e577f",
   "metadata": {},
   "outputs": [],
   "source": [
    "MNIST = datasets.fetch_openml('mnist_784', version=1)"
   ]
  },
  {
   "cell_type": "code",
   "execution_count": 3,
   "id": "e4bff66f",
   "metadata": {},
   "outputs": [],
   "source": [
    "X, y = MNIST['data'], MNIST['target']\n",
    "y = y.astype(np.uint8)"
   ]
  },
  {
   "cell_type": "code",
   "execution_count": 4,
   "id": "d8c6be7a",
   "metadata": {},
   "outputs": [],
   "source": [
    "X_train, y_train, X_test, y_test = X[:60000], y[:60000], X[60000:], y[60000:]"
   ]
  },
  {
   "cell_type": "code",
   "execution_count": 9,
   "id": "f87f03f7",
   "metadata": {},
   "outputs": [],
   "source": [
    "X\n",
    "some_digit = X.iloc[0]"
   ]
  },
  {
   "cell_type": "markdown",
   "id": "05d92697",
   "metadata": {},
   "source": [
    "## Binary classification"
   ]
  },
  {
   "cell_type": "markdown",
   "id": "4069c94e",
   "metadata": {},
   "source": [
    "#### Stochastic Gradient Classifier"
   ]
  },
  {
   "cell_type": "code",
   "execution_count": 5,
   "id": "87d07b62",
   "metadata": {},
   "outputs": [],
   "source": [
    "y_train_fives = (y_train == 5)\n",
    "y_test_fives = (y_test == 5)"
   ]
  },
  {
   "cell_type": "code",
   "execution_count": 6,
   "id": "8e069531",
   "metadata": {},
   "outputs": [
    {
     "data": {
      "text/plain": [
       "SGDClassifier(random_state=42)"
      ]
     },
     "execution_count": 6,
     "metadata": {},
     "output_type": "execute_result"
    }
   ],
   "source": [
    "from sklearn import linear_model\n",
    "sgd_clf = linear_model.SGDClassifier(random_state=42)\n",
    "sgd_clf.fit(X_train, y_train_fives)"
   ]
  },
  {
   "cell_type": "code",
   "execution_count": 145,
   "id": "4a1b28be",
   "metadata": {},
   "outputs": [
    {
     "name": "stderr",
     "output_type": "stream",
     "text": [
      "/Users/ikwang/.pyenv/versions/3.10.0/lib/python3.10/site-packages/sklearn/base.py:445: UserWarning: X does not have valid feature names, but SGDClassifier was fitted with feature names\n",
      "  warnings.warn(\n"
     ]
    },
    {
     "data": {
      "text/plain": [
       "array([ True])"
      ]
     },
     "execution_count": 145,
     "metadata": {},
     "output_type": "execute_result"
    }
   ],
   "source": [
    "sgd_clf.predict([some_digit])"
   ]
  },
  {
   "cell_type": "markdown",
   "id": "f51d6e43",
   "metadata": {},
   "source": [
    "### Evaluating Performance"
   ]
  },
  {
   "cell_type": "code",
   "execution_count": 7,
   "id": "ea63c681",
   "metadata": {},
   "outputs": [],
   "source": [
    "# use cross val predict to obtain predictions\n",
    "from sklearn.model_selection import cross_val_predict\n",
    "y_pred_fives = cross_val_predict(sgd_clf, X_train, y_train_fives, cv=3)"
   ]
  },
  {
   "cell_type": "code",
   "execution_count": 8,
   "id": "6d57de22",
   "metadata": {},
   "outputs": [
    {
     "data": {
      "text/plain": [
       "array([[53892,   687],\n",
       "       [ 1891,  3530]])"
      ]
     },
     "execution_count": 8,
     "metadata": {},
     "output_type": "execute_result"
    }
   ],
   "source": [
    "from sklearn.metrics import confusion_matrix\n",
    "confusion_matrix(y_train_fives, y_pred_fives)"
   ]
  },
  {
   "cell_type": "code",
   "execution_count": 52,
   "id": "a8430c8f",
   "metadata": {},
   "outputs": [
    {
     "name": "stdout",
     "output_type": "stream",
     "text": [
      "precision score: 0.8370879772350012\n",
      "recall score: 0.6511713705958311\n"
     ]
    }
   ],
   "source": [
    "from sklearn.metrics import precision_recall_curve, precision_score, recall_score, roc_auc_score\n",
    "\n",
    "print('precision score: {}\\nrecall score: {}'.format(\n",
    "    precision_score(y_train_fives, y_pred_fives),\n",
    "    recall_score(y_train_fives, y_pred_fives)\n",
    "))"
   ]
  },
  {
   "cell_type": "markdown",
   "id": "3924502f",
   "metadata": {},
   "source": [
    "Note: we tune the performance of our classifier(increasing precision or increasing recall) based on the context and solution requirements of the problem we are trying to solve.\n",
    "\n",
    "* Recall - also known as true positive rate, means how many positive examples did our model see for a class\n",
    "\n",
    "* Precision - the accuracy of our models postive predictions on the class"
   ]
  },
  {
   "cell_type": "markdown",
   "id": "c9461e72",
   "metadata": {},
   "source": [
    "### Selecting Treshold to tweak recall and precision\n",
    "Instead of getting predicitons (from the cross_val_predict function), scores or probs so we can set threshold.\n",
    "\n",
    "Certain classifiers use a decision function to predict the class by setting a threshold value"
   ]
  },
  {
   "cell_type": "code",
   "execution_count": 11,
   "id": "2ebf28b6",
   "metadata": {},
   "outputs": [
    {
     "name": "stdout",
     "output_type": "stream",
     "text": [
      "sgd_scores: [  1200.93051237 -26883.79202424 -33072.03475406 ...  13272.12718981\n",
      "  -7258.47203373 -16877.50840447]\n"
     ]
    }
   ],
   "source": [
    "y_scores_sgd = cross_val_predict(sgd_clf, X_train, y_train_fives, cv=3, method='decision_function')\n",
    "print('sgd_scores: {}'.format(y_scores_sgd))"
   ]
  },
  {
   "cell_type": "code",
   "execution_count": 12,
   "id": "88ed04e8",
   "metadata": {
    "scrolled": false
   },
   "outputs": [
    {
     "data": {
      "image/png": "[encoded data removed]",
      "text/plain": [
       "<Figure size 432x288 with 1 Axes>"
      ]
     },
     "metadata": {
      "needs_background": "light"
     },
     "output_type": "display_data"
    }
   ],
   "source": [
    "# use scores to plot precision and recall against respective threshold values\n",
    "precisions, recalls, thresholds = precision_recall_curve(y_train_fives, y_scores_sgd)\n",
    "\n",
    "# visualize precision and recall\n",
    "def plot_precision_recall_vs_threshold(precisions, recalls, thresholds):\n",
    "    plt.plot(thresholds, precisions[:-1], 'b--', label='Precision')\n",
    "    plt.plot(thresholds, recalls[:-1], 'g', label='Recall')\n",
    "    plt.xlabel('Threshold')\n",
    "    plt.legend()\n",
    "    plt.grid()\n",
    "    \n",
    "plot_precision_recall_vs_threshold(precisions, recalls, thresholds)\n",
    "plt.show()\n",
    "    "
   ]
  },
  {
   "cell_type": "markdown",
   "id": "95d81fb1",
   "metadata": {},
   "source": [
    "Precision demanded: 90%\n",
    "Equivalent recall observed: 40% -ish\n"
   ]
  },
  {
   "cell_type": "code",
   "execution_count": 13,
   "id": "aa04c6b7",
   "metadata": {
    "scrolled": true
   },
   "outputs": [
    {
     "name": "stdout",
     "output_type": "stream",
     "text": [
      "threshold to obtain 90% precision: 3370.019499143958\n"
     ]
    }
   ],
   "source": [
    "# threshold to meet required precision\n",
    "threshold_sgd = thresholds[np.argmax(precisions >= 0.9)]\n",
    "print('threshold to obtain 90% precision: {}'.format(threshold_sgd))"
   ]
  },
  {
   "cell_type": "code",
   "execution_count": 15,
   "id": "8de4ba23",
   "metadata": {},
   "outputs": [
    {
     "name": "stdout",
     "output_type": "stream",
     "text": [
      "precision of classifier with selected threshold: 0.9000345901072293\n",
      "recall of classifier with selected threshold: 0.4799852425751706\n"
     ]
    }
   ],
   "source": [
    "# to predict\n",
    "y_pred_fives_prec_90 = (y_scores_sgd >= threshold_sgd)\n",
    "\n",
    "# obtain precision and recall\n",
    "print(\n",
    "    '''precision of classifier with selected threshold: {}\\nrecall of classifier with selected threshold: {}'''.format(\n",
    "        precision_score(y_train_fives, y_pred_fives_prec_90),\n",
    "        recall_score(y_train_fives, y_pred_fives_prec_90)\n",
    "    ))"
   ]
  },
  {
   "cell_type": "markdown",
   "id": "c92a3a69",
   "metadata": {},
   "source": [
    "##### ROC\n",
    "Poor recall <br>\n",
    "To fix that, we use ROC (TPR v FPR) <br>\n",
    "ROC_AUC is used to compare two classifiers"
   ]
  },
  {
   "cell_type": "code",
   "execution_count": 17,
   "id": "d93fb64b",
   "metadata": {},
   "outputs": [],
   "source": [
    "from sklearn.metrics import roc_curve\n",
    "\n",
    "fpr_sgd, tpr_sgd, thresholds_sgd = roc_curve(y_train_fives, y_scores_sgd)\n",
    "\n",
    "# plot ROC curve\n",
    "def plot_roc_curve(fpr, tpr, labels=None, compare_clf=False):\n",
    "    '''Visualizes the ROC of two models'''\n",
    "    if compare_clf:\n",
    "        plt.plot(fpr[0], tpr[0], linewidth=2, label=labels[0])\n",
    "        plt.plot(fpr[1], tpr[1], 'b:', linewidth=2, label=labels[1])\n",
    "        plt.plot([0, 1], [0, 1], 'k:')\n",
    "        plt.xlabel('False Positive Rate')\n",
    "        plt.ylabel('True Positive Rate')\n",
    "        plt.legend()\n",
    "        plt.grid()    \n",
    "    else:\n",
    "        plt.plot(fpr, tpr, linewidth=2, label=labels)\n",
    "        plt.plot([0, 1], [0, 1], 'k:')\n",
    "        plt.xlabel('False Positive Rate')\n",
    "        plt.ylabel('True Positive Rate')\n",
    "        plt.legend()\n",
    "        plt.grid()    "
   ]
  },
  {
   "cell_type": "code",
   "execution_count": 19,
   "id": "ddc0fbbf",
   "metadata": {
    "scrolled": true
   },
   "outputs": [
    {
     "data": {
      "text/plain": [
       "[<matplotlib.lines.Line2D at 0x128a9b220>]"
      ]
     },
     "execution_count": 19,
     "metadata": {},
     "output_type": "execute_result"
    },
    {
     "data": {
      "image/png": "[encoded data removed]",
      "text/plain": [
       "<Figure size 432x288 with 1 Axes>"
      ]
     },
     "metadata": {
      "needs_background": "light"
     },
     "output_type": "display_data"
    }
   ],
   "source": [
    "plot_roc_curve(fpr_sgd, tpr_sgd, 'sgd')\n",
    "plt.plot([0, 0], [0, 0.4368], 'r:', linewidth=3)"
   ]
  },
  {
   "cell_type": "markdown",
   "id": "5d8c52bd",
   "metadata": {},
   "source": [
    "Selecting a recall (TPR) of **0.68** might be a better solution than what we currently have <br>\n",
    "*where the redline terminates is our current classifier recall ~ 0.0 FPR*"
   ]
  },
  {
   "cell_type": "markdown",
   "id": "4c44c7c7",
   "metadata": {},
   "source": [
    "#### RandomForestClassifier"
   ]
  },
  {
   "cell_type": "code",
   "execution_count": 39,
   "id": "7f115583",
   "metadata": {},
   "outputs": [],
   "source": [
    "from sklearn.ensemble import RandomForestClassifier\n",
    "\n",
    "forest_clf = RandomForestClassifier().fit(X_train, y_train_fives)\n",
    "\n",
    "# get scores/probability\n",
    "y_scores_forest = cross_val_predict(forest_clf, X_train, y_train_fives, cv=4, method='predict_proba')\n",
    "\n",
    "\n",
    "precisions_2, recalls_2, thresholds_2 = precision_recall_curve(y_train_fives, y_scores_forest[:,1])\n",
    "\n",
    "fpr_forest, tpr_forest, thresholds_forest = roc_curve(y_train_fives, y_scores_forest[:,1])"
   ]
  },
  {
   "cell_type": "markdown",
   "id": "a131256e",
   "metadata": {},
   "source": [
    "##### precisions, recalls v thresholds"
   ]
  },
  {
   "cell_type": "code",
   "execution_count": 28,
   "id": "2cde9395",
   "metadata": {},
   "outputs": [
    {
     "data": {
      "image/png": "[encoded data removed]",
      "text/plain": [
       "<Figure size 432x288 with 1 Axes>"
      ]
     },
     "metadata": {
      "needs_background": "light"
     },
     "output_type": "display_data"
    }
   ],
   "source": [
    "# visualize precisions and recall for the forest clf\n",
    "\n",
    "plot_precision_recall_vs_threshold(precisions_2, recalls_2, thresholds_2)"
   ]
  },
  {
   "cell_type": "code",
   "execution_count": 22,
   "id": "fbf0277b",
   "metadata": {},
   "outputs": [
    {
     "data": {
      "image/png": "[encoded data removed]",
      "text/plain": [
       "<Figure size 432x288 with 1 Axes>"
      ]
     },
     "metadata": {
      "needs_background": "light"
     },
     "output_type": "display_data"
    }
   ],
   "source": [
    "fpr = [fpr_sgd, fpr_forest]\n",
    "tpr = [tpr_sgd, tpr_forest]\n",
    "\n",
    "plot_roc_curve(fpr, tpr, labels=['sgd', 'forest_clf'], compare_clf=True)"
   ]
  },
  {
   "cell_type": "markdown",
   "id": "32c3ff27",
   "metadata": {},
   "source": [
    "the random forest classifier outperforms the sgd clf model <br>\n",
    "It can attain a recall of 80+% and stil have a great zero FPR which can mean great precision."
   ]
  },
  {
   "cell_type": "code",
   "execution_count": 57,
   "id": "f4505316",
   "metadata": {},
   "outputs": [
    {
     "data": {
      "text/plain": [
       "True"
      ]
     },
     "execution_count": 57,
     "metadata": {},
     "output_type": "execute_result"
    }
   ],
   "source": [
    "# compare both classifiers\n",
    "(roc_auc_score(y_train_fives, y_scores_sgd) < roc_auc_score(y_train_fives, y_scores_forest[:,1]))"
   ]
  }
 ],
 "metadata": {
  "kernelspec": {
   "display_name": "Python 3 (ipykernel)",
   "language": "python",
   "name": "python3"
  },
  "language_info": {
   "codemirror_mode": {
    "name": "ipython",
    "version": 3
   },
   "file_extension": ".py",
   "mimetype": "text/x-python",
   "name": "python",
   "nbconvert_exporter": "python",
   "pygments_lexer": "ipython3",
   "version": "3.10.0"
  }
 },
 "nbformat": 4,
 "nbformat_minor": 5
}
