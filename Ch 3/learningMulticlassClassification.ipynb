{
 "cells": [
  {
   "cell_type": "code",
   "execution_count": 1,
   "id": "3072875e",
   "metadata": {},
   "outputs": [],
   "source": [
    "import numpy as np\n",
    "import pandas as pd\n",
    "import matplotlib.pyplot as plt\n",
    "from sklearn import datasets\n",
    "from sklearn.neighbors import KNeighborsClassifier\n",
    "from sklearn.model_selection import GridSearchCV, cross_val_predict, cross_val_score\n",
    "from sklearn.preprocessing import StandardScaler\n",
    "from sklearn.metrics import confusion_matrix, precision_recall_curve, precision_score, recall_score, accuracy_score, roc_auc_score, roc_curve, classification_report\n",
    "%matplotlib inline"
   ]
  },
  {
   "cell_type": "code",
   "execution_count": 2,
   "id": "88f423f2",
   "metadata": {},
   "outputs": [],
   "source": [
    "mnist = datasets.fetch_openml('mnist_784', version=1)"
   ]
  },
  {
   "cell_type": "code",
   "execution_count": 3,
   "id": "3e24810c",
   "metadata": {},
   "outputs": [],
   "source": [
    "X, y = mnist['data'], mnist['target']\n",
    "y = y.astype(np.uint8)\n",
    "X_train, y_train, X_test, y_test = X[:60000], y[:60000], X[60000:], y[60000:]"
   ]
  },
  {
   "cell_type": "code",
   "execution_count": 13,
   "id": "5cfd8204",
   "metadata": {},
   "outputs": [
    {
     "data": {
      "text/plain": [
       "<matplotlib.image.AxesImage at 0x12f169f30>"
      ]
     },
     "execution_count": 13,
     "metadata": {},
     "output_type": "execute_result"
    },
    {
     "data": {
      "image/png": "[encoded data removed]",
      "text/plain": [
       "<Figure size 288x288 with 1 Axes>"
      ]
     },
     "metadata": {
      "needs_background": "light"
     },
     "output_type": "display_data"
    }
   ],
   "source": [
    "plt.matshow(X_train.iloc[0].values.reshape(28,28))"
   ]
  },
  {
   "cell_type": "code",
   "execution_count": 4,
   "id": "f5fe1074",
   "metadata": {},
   "outputs": [],
   "source": [
    "std_scaler = StandardScaler().fit(X_train)\n",
    "X_train = std_scaler.transform(X_train)"
   ]
  },
  {
   "cell_type": "markdown",
   "id": "93619a6b",
   "metadata": {},
   "source": [
    "### KNN Clf"
   ]
  },
  {
   "cell_type": "code",
   "execution_count": 23,
   "id": "103a6b57",
   "metadata": {},
   "outputs": [
    {
     "data": {
      "text/plain": [
       "GridSearchCV(cv=5, estimator=KNeighborsClassifier(),\n",
       "             param_grid={'n_neighbors': [1, 2, 3, 4, 5],\n",
       "                         'weights': ['uniform', 'distance']})"
      ]
     },
     "execution_count": 23,
     "metadata": {},
     "output_type": "execute_result"
    }
   ],
   "source": [
    "params = {'n_neighbors':[1, 2, 3, 4, 5], 'weights':['uniform', 'distance']}\n",
    "knn_model = KNeighborsClassifier()\n",
    "\n",
    "grid_cv = GridSearchCV(knn_model, params, cv=5)\n",
    "grid_cv.fit(X_train, y_train)\n"
   ]
  },
  {
   "cell_type": "code",
   "execution_count": 71,
   "id": "8b4db0fa",
   "metadata": {},
   "outputs": [],
   "source": [
    "knn_clf = grid_cv.best_estimator_"
   ]
  },
  {
   "cell_type": "code",
   "execution_count": 27,
   "id": "081ee4b6",
   "metadata": {},
   "outputs": [
    {
     "data": {
      "text/plain": [
       "{'n_neighbors': 4, 'weights': 'distance'}"
      ]
     },
     "execution_count": 27,
     "metadata": {},
     "output_type": "execute_result"
    }
   ],
   "source": [
    "grid_cv.best_params_"
   ]
  },
  {
   "cell_type": "markdown",
   "id": "d857be5e",
   "metadata": {},
   "source": [
    "##### Evaluation"
   ]
  },
  {
   "cell_type": "code",
   "execution_count": 30,
   "id": "cd7a26c6",
   "metadata": {
    "scrolled": false
   },
   "outputs": [
    {
     "data": {
      "text/html": [
       "<div>\n",
       "<style scoped>\n",
       "    .dataframe tbody tr th:only-of-type {\n",
       "        vertical-align: middle;\n",
       "    }\n",
       "\n",
       "    .dataframe tbody tr th {\n",
       "        vertical-align: top;\n",
       "    }\n",
       "\n",
       "    .dataframe thead th {\n",
       "        text-align: right;\n",
       "    }\n",
       "</style>\n",
       "<table border=\"1\" class=\"dataframe\">\n",
       "  <thead>\n",
       "    <tr style=\"text-align: right;\">\n",
       "      <th></th>\n",
       "      <th>mean_fit_time</th>\n",
       "      <th>std_fit_time</th>\n",
       "      <th>mean_score_time</th>\n",
       "      <th>std_score_time</th>\n",
       "      <th>param_n_neighbors</th>\n",
       "      <th>param_weights</th>\n",
       "      <th>params</th>\n",
       "      <th>split0_test_score</th>\n",
       "      <th>split1_test_score</th>\n",
       "      <th>split2_test_score</th>\n",
       "      <th>split3_test_score</th>\n",
       "      <th>split4_test_score</th>\n",
       "      <th>mean_test_score</th>\n",
       "      <th>std_test_score</th>\n",
       "      <th>rank_test_score</th>\n",
       "    </tr>\n",
       "  </thead>\n",
       "  <tbody>\n",
       "    <tr>\n",
       "      <th>0</th>\n",
       "      <td>0.309120</td>\n",
       "      <td>0.093701</td>\n",
       "      <td>14.818489</td>\n",
       "      <td>2.238109</td>\n",
       "      <td>1</td>\n",
       "      <td>uniform</td>\n",
       "      <td>{'n_neighbors': 1, 'weights': 'uniform'}</td>\n",
       "      <td>0.938167</td>\n",
       "      <td>0.943667</td>\n",
       "      <td>0.942500</td>\n",
       "      <td>0.939500</td>\n",
       "      <td>0.947333</td>\n",
       "      <td>0.942233</td>\n",
       "      <td>0.003229</td>\n",
       "      <td>5</td>\n",
       "    </tr>\n",
       "    <tr>\n",
       "      <th>1</th>\n",
       "      <td>0.252675</td>\n",
       "      <td>0.023735</td>\n",
       "      <td>14.442075</td>\n",
       "      <td>0.981154</td>\n",
       "      <td>1</td>\n",
       "      <td>distance</td>\n",
       "      <td>{'n_neighbors': 1, 'weights': 'distance'}</td>\n",
       "      <td>0.938167</td>\n",
       "      <td>0.943667</td>\n",
       "      <td>0.942500</td>\n",
       "      <td>0.939500</td>\n",
       "      <td>0.947333</td>\n",
       "      <td>0.942233</td>\n",
       "      <td>0.003229</td>\n",
       "      <td>5</td>\n",
       "    </tr>\n",
       "    <tr>\n",
       "      <th>2</th>\n",
       "      <td>0.293834</td>\n",
       "      <td>0.033957</td>\n",
       "      <td>17.420439</td>\n",
       "      <td>0.847732</td>\n",
       "      <td>2</td>\n",
       "      <td>uniform</td>\n",
       "      <td>{'n_neighbors': 2, 'weights': 'uniform'}</td>\n",
       "      <td>0.931417</td>\n",
       "      <td>0.930417</td>\n",
       "      <td>0.934083</td>\n",
       "      <td>0.930750</td>\n",
       "      <td>0.937667</td>\n",
       "      <td>0.932867</td>\n",
       "      <td>0.002724</td>\n",
       "      <td>10</td>\n",
       "    </tr>\n",
       "    <tr>\n",
       "      <th>3</th>\n",
       "      <td>0.287991</td>\n",
       "      <td>0.043035</td>\n",
       "      <td>17.014970</td>\n",
       "      <td>0.615616</td>\n",
       "      <td>2</td>\n",
       "      <td>distance</td>\n",
       "      <td>{'n_neighbors': 2, 'weights': 'distance'}</td>\n",
       "      <td>0.938167</td>\n",
       "      <td>0.943667</td>\n",
       "      <td>0.942500</td>\n",
       "      <td>0.939500</td>\n",
       "      <td>0.947333</td>\n",
       "      <td>0.942233</td>\n",
       "      <td>0.003229</td>\n",
       "      <td>5</td>\n",
       "    </tr>\n",
       "    <tr>\n",
       "      <th>4</th>\n",
       "      <td>0.295269</td>\n",
       "      <td>0.042699</td>\n",
       "      <td>18.689915</td>\n",
       "      <td>0.724807</td>\n",
       "      <td>3</td>\n",
       "      <td>uniform</td>\n",
       "      <td>{'n_neighbors': 3, 'weights': 'uniform'}</td>\n",
       "      <td>0.941583</td>\n",
       "      <td>0.943917</td>\n",
       "      <td>0.944917</td>\n",
       "      <td>0.938333</td>\n",
       "      <td>0.945167</td>\n",
       "      <td>0.942783</td>\n",
       "      <td>0.002560</td>\n",
       "      <td>4</td>\n",
       "    </tr>\n",
       "    <tr>\n",
       "      <th>5</th>\n",
       "      <td>0.254435</td>\n",
       "      <td>0.011735</td>\n",
       "      <td>16.840230</td>\n",
       "      <td>0.788600</td>\n",
       "      <td>3</td>\n",
       "      <td>distance</td>\n",
       "      <td>{'n_neighbors': 3, 'weights': 'distance'}</td>\n",
       "      <td>0.942333</td>\n",
       "      <td>0.946250</td>\n",
       "      <td>0.945333</td>\n",
       "      <td>0.940833</td>\n",
       "      <td>0.946667</td>\n",
       "      <td>0.944283</td>\n",
       "      <td>0.002296</td>\n",
       "      <td>3</td>\n",
       "    </tr>\n",
       "    <tr>\n",
       "      <th>6</th>\n",
       "      <td>0.302491</td>\n",
       "      <td>0.096602</td>\n",
       "      <td>20.272615</td>\n",
       "      <td>1.775644</td>\n",
       "      <td>4</td>\n",
       "      <td>uniform</td>\n",
       "      <td>{'n_neighbors': 4, 'weights': 'uniform'}</td>\n",
       "      <td>0.938917</td>\n",
       "      <td>0.942083</td>\n",
       "      <td>0.942417</td>\n",
       "      <td>0.936667</td>\n",
       "      <td>0.944250</td>\n",
       "      <td>0.940867</td>\n",
       "      <td>0.002712</td>\n",
       "      <td>9</td>\n",
       "    </tr>\n",
       "    <tr>\n",
       "      <th>7</th>\n",
       "      <td>0.242292</td>\n",
       "      <td>0.003489</td>\n",
       "      <td>18.675038</td>\n",
       "      <td>0.352312</td>\n",
       "      <td>4</td>\n",
       "      <td>distance</td>\n",
       "      <td>{'n_neighbors': 4, 'weights': 'distance'}</td>\n",
       "      <td>0.945500</td>\n",
       "      <td>0.946833</td>\n",
       "      <td>0.947167</td>\n",
       "      <td>0.942750</td>\n",
       "      <td>0.950333</td>\n",
       "      <td>0.946517</td>\n",
       "      <td>0.002462</td>\n",
       "      <td>1</td>\n",
       "    </tr>\n",
       "    <tr>\n",
       "      <th>8</th>\n",
       "      <td>0.262192</td>\n",
       "      <td>0.007076</td>\n",
       "      <td>20.136431</td>\n",
       "      <td>0.788530</td>\n",
       "      <td>5</td>\n",
       "      <td>uniform</td>\n",
       "      <td>{'n_neighbors': 5, 'weights': 'uniform'}</td>\n",
       "      <td>0.941083</td>\n",
       "      <td>0.942917</td>\n",
       "      <td>0.943333</td>\n",
       "      <td>0.936333</td>\n",
       "      <td>0.946583</td>\n",
       "      <td>0.942050</td>\n",
       "      <td>0.003363</td>\n",
       "      <td>8</td>\n",
       "    </tr>\n",
       "    <tr>\n",
       "      <th>9</th>\n",
       "      <td>0.311187</td>\n",
       "      <td>0.045060</td>\n",
       "      <td>22.706171</td>\n",
       "      <td>1.357315</td>\n",
       "      <td>5</td>\n",
       "      <td>distance</td>\n",
       "      <td>{'n_neighbors': 5, 'weights': 'distance'}</td>\n",
       "      <td>0.942333</td>\n",
       "      <td>0.945250</td>\n",
       "      <td>0.945333</td>\n",
       "      <td>0.940417</td>\n",
       "      <td>0.948417</td>\n",
       "      <td>0.944350</td>\n",
       "      <td>0.002751</td>\n",
       "      <td>2</td>\n",
       "    </tr>\n",
       "  </tbody>\n",
       "</table>\n",
       "</div>"
      ],
      "text/plain": [
       "   mean_fit_time  std_fit_time  mean_score_time  std_score_time  \\\n",
       "0       0.309120      0.093701        14.818489        2.238109   \n",
       "1       0.252675      0.023735        14.442075        0.981154   \n",
       "2       0.293834      0.033957        17.420439        0.847732   \n",
       "3       0.287991      0.043035        17.014970        0.615616   \n",
       "4       0.295269      0.042699        18.689915        0.724807   \n",
       "5       0.254435      0.011735        16.840230        0.788600   \n",
       "6       0.302491      0.096602        20.272615        1.775644   \n",
       "7       0.242292      0.003489        18.675038        0.352312   \n",
       "8       0.262192      0.007076        20.136431        0.788530   \n",
       "9       0.311187      0.045060        22.706171        1.357315   \n",
       "\n",
       "  param_n_neighbors param_weights                                     params  \\\n",
       "0                 1       uniform   {'n_neighbors': 1, 'weights': 'uniform'}   \n",
       "1                 1      distance  {'n_neighbors': 1, 'weights': 'distance'}   \n",
       "2                 2       uniform   {'n_neighbors': 2, 'weights': 'uniform'}   \n",
       "3                 2      distance  {'n_neighbors': 2, 'weights': 'distance'}   \n",
       "4                 3       uniform   {'n_neighbors': 3, 'weights': 'uniform'}   \n",
       "5                 3      distance  {'n_neighbors': 3, 'weights': 'distance'}   \n",
       "6                 4       uniform   {'n_neighbors': 4, 'weights': 'uniform'}   \n",
       "7                 4      distance  {'n_neighbors': 4, 'weights': 'distance'}   \n",
       "8                 5       uniform   {'n_neighbors': 5, 'weights': 'uniform'}   \n",
       "9                 5      distance  {'n_neighbors': 5, 'weights': 'distance'}   \n",
       "\n",
       "   split0_test_score  split1_test_score  split2_test_score  split3_test_score  \\\n",
       "0           0.938167           0.943667           0.942500           0.939500   \n",
       "1           0.938167           0.943667           0.942500           0.939500   \n",
       "2           0.931417           0.930417           0.934083           0.930750   \n",
       "3           0.938167           0.943667           0.942500           0.939500   \n",
       "4           0.941583           0.943917           0.944917           0.938333   \n",
       "5           0.942333           0.946250           0.945333           0.940833   \n",
       "6           0.938917           0.942083           0.942417           0.936667   \n",
       "7           0.945500           0.946833           0.947167           0.942750   \n",
       "8           0.941083           0.942917           0.943333           0.936333   \n",
       "9           0.942333           0.945250           0.945333           0.940417   \n",
       "\n",
       "   split4_test_score  mean_test_score  std_test_score  rank_test_score  \n",
       "0           0.947333         0.942233        0.003229                5  \n",
       "1           0.947333         0.942233        0.003229                5  \n",
       "2           0.937667         0.932867        0.002724               10  \n",
       "3           0.947333         0.942233        0.003229                5  \n",
       "4           0.945167         0.942783        0.002560                4  \n",
       "5           0.946667         0.944283        0.002296                3  \n",
       "6           0.944250         0.940867        0.002712                9  \n",
       "7           0.950333         0.946517        0.002462                1  \n",
       "8           0.946583         0.942050        0.003363                8  \n",
       "9           0.948417         0.944350        0.002751                2  "
      ]
     },
     "execution_count": 30,
     "metadata": {},
     "output_type": "execute_result"
    }
   ],
   "source": [
    "pd.DataFrame(grid_cv.cv_results_)"
   ]
  },
  {
   "cell_type": "code",
   "execution_count": 34,
   "id": "37164033",
   "metadata": {},
   "outputs": [],
   "source": [
    "y_scores_knn = cross_val_predict(clf, X_train, y_train, cv=5)"
   ]
  },
  {
   "cell_type": "code",
   "execution_count": 47,
   "id": "87f4030a",
   "metadata": {
    "scrolled": false
   },
   "outputs": [
    {
     "name": "stdout",
     "output_type": "stream",
     "text": [
      "[[5825    3   16    6    0   18   41    4    4    6]\n",
      " [   1 6664   21   13    9    3   11   12    5    3]\n",
      " [  57   50 5562   89   21    9   47   57   42   24]\n",
      " [  13   17   54 5772    5   95    6   70   66   33]\n",
      " [   3   59   44    4 5441   15   21   33   15  207]\n",
      " [  20    9   10  155   12 5025   82   15   52   41]\n",
      " [  54   11   17    6   11   42 5768    1    8    0]\n",
      " [  10   53   26   17   48    3    0 5901    4  203]\n",
      " [  45   74   39  101   39  156   37   19 5274   67]\n",
      " [  13    7   16   47  111   13    1  164   18 5559]]\n"
     ]
    },
    {
     "data": {
      "text/plain": [
       "<matplotlib.image.AxesImage at 0x12eab8700>"
      ]
     },
     "execution_count": 47,
     "metadata": {},
     "output_type": "execute_result"
    },
    {
     "data": {
      "image/png": "[encoded data removed]",
      "text/plain": [
       "<Figure size 288x288 with 1 Axes>"
      ]
     },
     "metadata": {
      "needs_background": "light"
     },
     "output_type": "display_data"
    }
   ],
   "source": [
    "conf_mx = confusion_matrix(y_train, y_scores)\n",
    "print(conf_mx)\n",
    "plt.matshow(conf_mx, cmap='gray')"
   ]
  },
  {
   "cell_type": "code",
   "execution_count": 107,
   "id": "5f80c6d8",
   "metadata": {},
   "outputs": [
    {
     "name": "stdout",
     "output_type": "stream",
     "text": [
      "              precision    recall  f1-score   support\n",
      "\n",
      "           0       0.96      0.98      0.97      5923\n",
      "           1       0.96      0.99      0.97      6742\n",
      "           2       0.96      0.93      0.95      5958\n",
      "           3       0.93      0.94      0.94      6131\n",
      "           4       0.96      0.93      0.94      5842\n",
      "           5       0.93      0.93      0.93      5421\n",
      "           6       0.96      0.97      0.97      5918\n",
      "           7       0.94      0.94      0.94      6265\n",
      "           8       0.96      0.90      0.93      5851\n",
      "           9       0.90      0.93      0.92      5949\n",
      "\n",
      "    accuracy                           0.95     60000\n",
      "   macro avg       0.95      0.95      0.95     60000\n",
      "weighted avg       0.95      0.95      0.95     60000\n",
      "\n"
     ]
    }
   ],
   "source": [
    "print(classification_report(y_train, y_scores))"
   ]
  },
  {
   "cell_type": "markdown",
   "id": "7f111ef8",
   "metadata": {},
   "source": [
    "###### Error Analysis"
   ]
  },
  {
   "cell_type": "code",
   "execution_count": 60,
   "id": "22e0fd72",
   "metadata": {},
   "outputs": [
    {
     "data": {
      "text/plain": [
       "<matplotlib.image.AxesImage at 0x12ea153c0>"
      ]
     },
     "execution_count": 60,
     "metadata": {},
     "output_type": "execute_result"
    },
    {
     "data": {
      "image/png": "[encoded data removed]",
      "text/plain": [
       "<Figure size 288x288 with 1 Axes>"
      ]
     },
     "metadata": {
      "needs_background": "light"
     },
     "output_type": "display_data"
    }
   ],
   "source": [
    "row_sums = conf_mx.sum(axis=1)\n",
    "error_rate = conf_mx/row_sums\n",
    "np.fill_diagonal(error_rate, 0)\n",
    "plt.matshow(error_rate, cmap='gray')"
   ]
  },
  {
   "cell_type": "markdown",
   "id": "10883545",
   "metadata": {},
   "source": [
    "##### Testing"
   ]
  },
  {
   "cell_type": "code",
   "execution_count": 6,
   "id": "f3743f49",
   "metadata": {
    "scrolled": true
   },
   "outputs": [],
   "source": [
    "X_test_scaled = std_scaler.transform(X_test)\n",
    "y_pred = knn_clf.predict(X_test_scaled)"
   ]
  },
  {
   "cell_type": "code",
   "execution_count": 79,
   "id": "972503b7",
   "metadata": {
    "scrolled": true
   },
   "outputs": [
    {
     "data": {
      "text/plain": [
       "0.9489"
      ]
     },
     "execution_count": 79,
     "metadata": {},
     "output_type": "execute_result"
    }
   ],
   "source": [
    "accuracy_score(y_test, y_pred)"
   ]
  },
  {
   "cell_type": "markdown",
   "id": "33625e9c",
   "metadata": {},
   "source": [
    "### Random Forest Clf"
   ]
  },
  {
   "cell_type": "code",
   "execution_count": null,
   "id": "a175d1c4",
   "metadata": {},
   "outputs": [],
   "source": [
    "from sklearn.ensemble import RandomForestClassifier\n",
    "\n",
    "params = [\n",
    "    {'n_estimators':[90, 180], 'max_features':[10, 20, 40]},\n",
    "    {'bootstrap':[False], 'n_estimators':[90, 180], 'max_features':[10, 20, 40]}\n",
    "]\n",
    "\n",
    "forest_clf = RandomForestClassifier(random_state=42)\n",
    "forest_cv = GridSearchCV(forest_clf, params, cv=3, verbose=2).fit(X_train, y_train)"
   ]
  },
  {
   "cell_type": "code",
   "execution_count": 10,
   "id": "1c568b81",
   "metadata": {},
   "outputs": [],
   "source": [
    "forest_clf = forest_cv.best_estimator_"
   ]
  },
  {
   "cell_type": "code",
   "execution_count": 11,
   "id": "b8b6c904",
   "metadata": {
    "scrolled": true
   },
   "outputs": [
    {
     "data": {
      "text/plain": [
       "{'bootstrap': False, 'max_features': 20, 'n_estimators': 180}"
      ]
     },
     "execution_count": 11,
     "metadata": {},
     "output_type": "execute_result"
    }
   ],
   "source": [
    "forest_cv.best_params_"
   ]
  },
  {
   "cell_type": "markdown",
   "id": "84cff848",
   "metadata": {},
   "source": [
    "##### Evaluation"
   ]
  },
  {
   "cell_type": "code",
   "execution_count": 90,
   "id": "04de23f6",
   "metadata": {
    "scrolled": false
   },
   "outputs": [
    {
     "data": {
      "text/html": [
       "<div>\n",
       "<style scoped>\n",
       "    .dataframe tbody tr th:only-of-type {\n",
       "        vertical-align: middle;\n",
       "    }\n",
       "\n",
       "    .dataframe tbody tr th {\n",
       "        vertical-align: top;\n",
       "    }\n",
       "\n",
       "    .dataframe thead th {\n",
       "        text-align: right;\n",
       "    }\n",
       "</style>\n",
       "<table border=\"1\" class=\"dataframe\">\n",
       "  <thead>\n",
       "    <tr style=\"text-align: right;\">\n",
       "      <th></th>\n",
       "      <th>mean_fit_time</th>\n",
       "      <th>std_fit_time</th>\n",
       "      <th>mean_score_time</th>\n",
       "      <th>std_score_time</th>\n",
       "      <th>param_max_features</th>\n",
       "      <th>param_n_estimators</th>\n",
       "      <th>param_bootstrap</th>\n",
       "      <th>params</th>\n",
       "      <th>split0_test_score</th>\n",
       "      <th>split1_test_score</th>\n",
       "      <th>split2_test_score</th>\n",
       "      <th>mean_test_score</th>\n",
       "      <th>std_test_score</th>\n",
       "      <th>rank_test_score</th>\n",
       "    </tr>\n",
       "  </thead>\n",
       "  <tbody>\n",
       "    <tr>\n",
       "      <th>0</th>\n",
       "      <td>7.926316</td>\n",
       "      <td>0.307537</td>\n",
       "      <td>0.642320</td>\n",
       "      <td>0.014454</td>\n",
       "      <td>10</td>\n",
       "      <td>90</td>\n",
       "      <td>NaN</td>\n",
       "      <td>{'max_features': 10, 'n_estimators': 90}</td>\n",
       "      <td>0.96150</td>\n",
       "      <td>0.96020</td>\n",
       "      <td>0.96370</td>\n",
       "      <td>0.961800</td>\n",
       "      <td>0.001445</td>\n",
       "      <td>12</td>\n",
       "    </tr>\n",
       "    <tr>\n",
       "      <th>1</th>\n",
       "      <td>16.464550</td>\n",
       "      <td>0.382882</td>\n",
       "      <td>1.324193</td>\n",
       "      <td>0.072558</td>\n",
       "      <td>10</td>\n",
       "      <td>180</td>\n",
       "      <td>NaN</td>\n",
       "      <td>{'max_features': 10, 'n_estimators': 180}</td>\n",
       "      <td>0.96360</td>\n",
       "      <td>0.96125</td>\n",
       "      <td>0.96590</td>\n",
       "      <td>0.963583</td>\n",
       "      <td>0.001898</td>\n",
       "      <td>11</td>\n",
       "    </tr>\n",
       "    <tr>\n",
       "      <th>2</th>\n",
       "      <td>13.795162</td>\n",
       "      <td>0.170652</td>\n",
       "      <td>0.601534</td>\n",
       "      <td>0.010205</td>\n",
       "      <td>20</td>\n",
       "      <td>90</td>\n",
       "      <td>NaN</td>\n",
       "      <td>{'max_features': 20, 'n_estimators': 90}</td>\n",
       "      <td>0.96425</td>\n",
       "      <td>0.96265</td>\n",
       "      <td>0.96500</td>\n",
       "      <td>0.963967</td>\n",
       "      <td>0.000980</td>\n",
       "      <td>10</td>\n",
       "    </tr>\n",
       "    <tr>\n",
       "      <th>3</th>\n",
       "      <td>27.442821</td>\n",
       "      <td>0.195301</td>\n",
       "      <td>1.162056</td>\n",
       "      <td>0.019947</td>\n",
       "      <td>20</td>\n",
       "      <td>180</td>\n",
       "      <td>NaN</td>\n",
       "      <td>{'max_features': 20, 'n_estimators': 180}</td>\n",
       "      <td>0.96565</td>\n",
       "      <td>0.96340</td>\n",
       "      <td>0.96675</td>\n",
       "      <td>0.965267</td>\n",
       "      <td>0.001394</td>\n",
       "      <td>8</td>\n",
       "    </tr>\n",
       "    <tr>\n",
       "      <th>4</th>\n",
       "      <td>25.861307</td>\n",
       "      <td>0.257773</td>\n",
       "      <td>0.563145</td>\n",
       "      <td>0.002127</td>\n",
       "      <td>40</td>\n",
       "      <td>90</td>\n",
       "      <td>NaN</td>\n",
       "      <td>{'max_features': 40, 'n_estimators': 90}</td>\n",
       "      <td>0.96500</td>\n",
       "      <td>0.96350</td>\n",
       "      <td>0.96585</td>\n",
       "      <td>0.964783</td>\n",
       "      <td>0.000972</td>\n",
       "      <td>9</td>\n",
       "    </tr>\n",
       "    <tr>\n",
       "      <th>5</th>\n",
       "      <td>51.547020</td>\n",
       "      <td>0.362096</td>\n",
       "      <td>1.131945</td>\n",
       "      <td>0.049570</td>\n",
       "      <td>40</td>\n",
       "      <td>180</td>\n",
       "      <td>NaN</td>\n",
       "      <td>{'max_features': 40, 'n_estimators': 180}</td>\n",
       "      <td>0.96640</td>\n",
       "      <td>0.96430</td>\n",
       "      <td>0.96740</td>\n",
       "      <td>0.966033</td>\n",
       "      <td>0.001292</td>\n",
       "      <td>6</td>\n",
       "    </tr>\n",
       "    <tr>\n",
       "      <th>6</th>\n",
       "      <td>12.628412</td>\n",
       "      <td>0.029933</td>\n",
       "      <td>0.682270</td>\n",
       "      <td>0.000821</td>\n",
       "      <td>10</td>\n",
       "      <td>90</td>\n",
       "      <td>False</td>\n",
       "      <td>{'bootstrap': False, 'max_features': 10, 'n_es...</td>\n",
       "      <td>0.96650</td>\n",
       "      <td>0.96400</td>\n",
       "      <td>0.96725</td>\n",
       "      <td>0.965917</td>\n",
       "      <td>0.001389</td>\n",
       "      <td>7</td>\n",
       "    </tr>\n",
       "    <tr>\n",
       "      <th>7</th>\n",
       "      <td>25.065653</td>\n",
       "      <td>0.149699</td>\n",
       "      <td>1.327060</td>\n",
       "      <td>0.022114</td>\n",
       "      <td>10</td>\n",
       "      <td>180</td>\n",
       "      <td>False</td>\n",
       "      <td>{'bootstrap': False, 'max_features': 10, 'n_es...</td>\n",
       "      <td>0.96910</td>\n",
       "      <td>0.96575</td>\n",
       "      <td>0.96880</td>\n",
       "      <td>0.967883</td>\n",
       "      <td>0.001513</td>\n",
       "      <td>5</td>\n",
       "    </tr>\n",
       "    <tr>\n",
       "      <th>8</th>\n",
       "      <td>22.361658</td>\n",
       "      <td>0.432596</td>\n",
       "      <td>0.644764</td>\n",
       "      <td>0.014461</td>\n",
       "      <td>20</td>\n",
       "      <td>90</td>\n",
       "      <td>False</td>\n",
       "      <td>{'bootstrap': False, 'max_features': 20, 'n_es...</td>\n",
       "      <td>0.96895</td>\n",
       "      <td>0.96720</td>\n",
       "      <td>0.96940</td>\n",
       "      <td>0.968517</td>\n",
       "      <td>0.000949</td>\n",
       "      <td>4</td>\n",
       "    </tr>\n",
       "    <tr>\n",
       "      <th>9</th>\n",
       "      <td>43.715329</td>\n",
       "      <td>0.615017</td>\n",
       "      <td>1.223729</td>\n",
       "      <td>0.021043</td>\n",
       "      <td>20</td>\n",
       "      <td>180</td>\n",
       "      <td>False</td>\n",
       "      <td>{'bootstrap': False, 'max_features': 20, 'n_es...</td>\n",
       "      <td>0.97040</td>\n",
       "      <td>0.96765</td>\n",
       "      <td>0.97135</td>\n",
       "      <td>0.969800</td>\n",
       "      <td>0.001569</td>\n",
       "      <td>1</td>\n",
       "    </tr>\n",
       "    <tr>\n",
       "      <th>10</th>\n",
       "      <td>42.359820</td>\n",
       "      <td>1.258106</td>\n",
       "      <td>0.624659</td>\n",
       "      <td>0.012662</td>\n",
       "      <td>40</td>\n",
       "      <td>90</td>\n",
       "      <td>False</td>\n",
       "      <td>{'bootstrap': False, 'max_features': 40, 'n_es...</td>\n",
       "      <td>0.96985</td>\n",
       "      <td>0.96645</td>\n",
       "      <td>0.97005</td>\n",
       "      <td>0.968783</td>\n",
       "      <td>0.001652</td>\n",
       "      <td>3</td>\n",
       "    </tr>\n",
       "    <tr>\n",
       "      <th>11</th>\n",
       "      <td>85.945998</td>\n",
       "      <td>1.797279</td>\n",
       "      <td>1.184346</td>\n",
       "      <td>0.033635</td>\n",
       "      <td>40</td>\n",
       "      <td>180</td>\n",
       "      <td>False</td>\n",
       "      <td>{'bootstrap': False, 'max_features': 40, 'n_es...</td>\n",
       "      <td>0.97100</td>\n",
       "      <td>0.96790</td>\n",
       "      <td>0.97010</td>\n",
       "      <td>0.969667</td>\n",
       "      <td>0.001302</td>\n",
       "      <td>2</td>\n",
       "    </tr>\n",
       "  </tbody>\n",
       "</table>\n",
       "</div>"
      ],
      "text/plain": [
       "    mean_fit_time  std_fit_time  mean_score_time  std_score_time  \\\n",
       "0        7.926316      0.307537         0.642320        0.014454   \n",
       "1       16.464550      0.382882         1.324193        0.072558   \n",
       "2       13.795162      0.170652         0.601534        0.010205   \n",
       "3       27.442821      0.195301         1.162056        0.019947   \n",
       "4       25.861307      0.257773         0.563145        0.002127   \n",
       "5       51.547020      0.362096         1.131945        0.049570   \n",
       "6       12.628412      0.029933         0.682270        0.000821   \n",
       "7       25.065653      0.149699         1.327060        0.022114   \n",
       "8       22.361658      0.432596         0.644764        0.014461   \n",
       "9       43.715329      0.615017         1.223729        0.021043   \n",
       "10      42.359820      1.258106         0.624659        0.012662   \n",
       "11      85.945998      1.797279         1.184346        0.033635   \n",
       "\n",
       "   param_max_features param_n_estimators param_bootstrap  \\\n",
       "0                  10                 90             NaN   \n",
       "1                  10                180             NaN   \n",
       "2                  20                 90             NaN   \n",
       "3                  20                180             NaN   \n",
       "4                  40                 90             NaN   \n",
       "5                  40                180             NaN   \n",
       "6                  10                 90           False   \n",
       "7                  10                180           False   \n",
       "8                  20                 90           False   \n",
       "9                  20                180           False   \n",
       "10                 40                 90           False   \n",
       "11                 40                180           False   \n",
       "\n",
       "                                               params  split0_test_score  \\\n",
       "0            {'max_features': 10, 'n_estimators': 90}            0.96150   \n",
       "1           {'max_features': 10, 'n_estimators': 180}            0.96360   \n",
       "2            {'max_features': 20, 'n_estimators': 90}            0.96425   \n",
       "3           {'max_features': 20, 'n_estimators': 180}            0.96565   \n",
       "4            {'max_features': 40, 'n_estimators': 90}            0.96500   \n",
       "5           {'max_features': 40, 'n_estimators': 180}            0.96640   \n",
       "6   {'bootstrap': False, 'max_features': 10, 'n_es...            0.96650   \n",
       "7   {'bootstrap': False, 'max_features': 10, 'n_es...            0.96910   \n",
       "8   {'bootstrap': False, 'max_features': 20, 'n_es...            0.96895   \n",
       "9   {'bootstrap': False, 'max_features': 20, 'n_es...            0.97040   \n",
       "10  {'bootstrap': False, 'max_features': 40, 'n_es...            0.96985   \n",
       "11  {'bootstrap': False, 'max_features': 40, 'n_es...            0.97100   \n",
       "\n",
       "    split1_test_score  split2_test_score  mean_test_score  std_test_score  \\\n",
       "0             0.96020            0.96370         0.961800        0.001445   \n",
       "1             0.96125            0.96590         0.963583        0.001898   \n",
       "2             0.96265            0.96500         0.963967        0.000980   \n",
       "3             0.96340            0.96675         0.965267        0.001394   \n",
       "4             0.96350            0.96585         0.964783        0.000972   \n",
       "5             0.96430            0.96740         0.966033        0.001292   \n",
       "6             0.96400            0.96725         0.965917        0.001389   \n",
       "7             0.96575            0.96880         0.967883        0.001513   \n",
       "8             0.96720            0.96940         0.968517        0.000949   \n",
       "9             0.96765            0.97135         0.969800        0.001569   \n",
       "10            0.96645            0.97005         0.968783        0.001652   \n",
       "11            0.96790            0.97010         0.969667        0.001302   \n",
       "\n",
       "    rank_test_score  \n",
       "0                12  \n",
       "1                11  \n",
       "2                10  \n",
       "3                 8  \n",
       "4                 9  \n",
       "5                 6  \n",
       "6                 7  \n",
       "7                 5  \n",
       "8                 4  \n",
       "9                 1  \n",
       "10                3  \n",
       "11                2  "
      ]
     },
     "execution_count": 90,
     "metadata": {},
     "output_type": "execute_result"
    }
   ],
   "source": [
    "pd.DataFrame(forest_cv.cv_results_)"
   ]
  },
  {
   "cell_type": "code",
   "execution_count": 95,
   "id": "6b850292",
   "metadata": {},
   "outputs": [],
   "source": [
    "y_scores_forest = cross_val_predict(forest_clf, X_train, y_train, cv=3)"
   ]
  },
  {
   "cell_type": "code",
   "execution_count": 103,
   "id": "98d362ea",
   "metadata": {},
   "outputs": [
    {
     "data": {
      "text/plain": [
       "array([5, 0, 4, ..., 5, 6, 8], dtype=uint8)"
      ]
     },
     "execution_count": 103,
     "metadata": {},
     "output_type": "execute_result"
    }
   ],
   "source": [
    "y_scores_forest"
   ]
  },
  {
   "cell_type": "code",
   "execution_count": 106,
   "id": "4c494357",
   "metadata": {
    "scrolled": true
   },
   "outputs": [
    {
     "name": "stdout",
     "output_type": "stream",
     "text": [
      "              precision    recall  f1-score   support\n",
      "\n",
      "           0       0.98      0.99      0.98      5923\n",
      "           1       0.99      0.99      0.99      6742\n",
      "           2       0.96      0.97      0.96      5958\n",
      "           3       0.97      0.95      0.96      6131\n",
      "           4       0.97      0.97      0.97      5842\n",
      "           5       0.97      0.96      0.97      5421\n",
      "           6       0.98      0.98      0.98      5918\n",
      "           7       0.97      0.97      0.97      6265\n",
      "           8       0.96      0.96      0.96      5851\n",
      "           9       0.95      0.95      0.95      5949\n",
      "\n",
      "    accuracy                           0.97     60000\n",
      "   macro avg       0.97      0.97      0.97     60000\n",
      "weighted avg       0.97      0.97      0.97     60000\n",
      "\n"
     ]
    }
   ],
   "source": [
    "print(classification_report(y_train, y_scores_forest))"
   ]
  },
  {
   "cell_type": "markdown",
   "id": "09e685c6",
   "metadata": {},
   "source": [
    "##### Error Analysis"
   ]
  },
  {
   "cell_type": "code",
   "execution_count": 109,
   "id": "26693e0d",
   "metadata": {},
   "outputs": [
    {
     "name": "stdout",
     "output_type": "stream",
     "text": [
      "[[5825    3   16    6    0   18   41    4    4    6]\n",
      " [   1 6664   21   13    9    3   11   12    5    3]\n",
      " [  57   50 5562   89   21    9   47   57   42   24]\n",
      " [  13   17   54 5772    5   95    6   70   66   33]\n",
      " [   3   59   44    4 5441   15   21   33   15  207]\n",
      " [  20    9   10  155   12 5025   82   15   52   41]\n",
      " [  54   11   17    6   11   42 5768    1    8    0]\n",
      " [  10   53   26   17   48    3    0 5901    4  203]\n",
      " [  45   74   39  101   39  156   37   19 5274   67]\n",
      " [  13    7   16   47  111   13    1  164   18 5559]]\n"
     ]
    },
    {
     "data": {
      "text/plain": [
       "<matplotlib.image.AxesImage at 0x130678d00>"
      ]
     },
     "execution_count": 109,
     "metadata": {},
     "output_type": "execute_result"
    },
    {
     "data": {
      "image/png": "[encoded data removed]",
      "text/plain": [
       "<Figure size 288x288 with 1 Axes>"
      ]
     },
     "metadata": {
      "needs_background": "light"
     },
     "output_type": "display_data"
    }
   ],
   "source": [
    "conf_mx_forest = confusion_matrix(y_train, y_scores_forest)\n",
    "print(conf_mx)\n",
    "\n",
    "row_sums = conf_mx_forest.sum(axis=1)\n",
    "norm_conf_mx = conf_mx_forest/row_sums\n",
    "np.fill_diagonal(norm_conf_mx, 0)\n",
    "plt.matshow(norm_conf_mx, cmap='gray')"
   ]
  },
  {
   "cell_type": "markdown",
   "id": "4d99ee77",
   "metadata": {},
   "source": [
    "##### Testing"
   ]
  },
  {
   "cell_type": "code",
   "execution_count": 12,
   "id": "cc8fd2ba",
   "metadata": {},
   "outputs": [
    {
     "data": {
      "text/plain": [
       "0.9733"
      ]
     },
     "execution_count": 12,
     "metadata": {},
     "output_type": "execute_result"
    }
   ],
   "source": [
    "y_pred_forest = forest_clf.predict(X_test_scaled)\n",
    "accuracy_score(y_test, y_pred_forest)"
   ]
  },
  {
   "cell_type": "code",
   "execution_count": 13,
   "id": "74e5738d",
   "metadata": {},
   "outputs": [
    {
     "data": {
      "text/plain": [
       "['model_97.pkl']"
      ]
     },
     "execution_count": 13,
     "metadata": {},
     "output_type": "execute_result"
    }
   ],
   "source": [
    "import joblib\n",
    "joblib.dump(forest_clf, 'model_97.pkl')"
   ]
  },
  {
   "cell_type": "markdown",
   "id": "8dca9342",
   "metadata": {},
   "source": [
    "### ACCURACY SCORE ACHIEVED !!!!!"
   ]
  },
  {
   "cell_type": "code",
   "execution_count": null,
   "id": "d10b0731",
   "metadata": {},
   "outputs": [],
   "source": []
  }
 ],
 "metadata": {
  "kernelspec": {
   "display_name": "Python 3 (ipykernel)",
   "language": "python",
   "name": "python3"
  },
  "language_info": {
   "codemirror_mode": {
    "name": "ipython",
    "version": 3
   },
   "file_extension": ".py",
   "mimetype": "text/x-python",
   "name": "python",
   "nbconvert_exporter": "python",
   "pygments_lexer": "ipython3",
   "version": "3.10.0"
  }
 },
 "nbformat": 4,
 "nbformat_minor": 5
}
