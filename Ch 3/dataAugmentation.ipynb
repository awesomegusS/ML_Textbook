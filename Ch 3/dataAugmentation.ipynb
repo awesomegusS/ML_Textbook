{
 "cells": [
  {
   "cell_type": "code",
   "execution_count": 8,
   "id": "df0d42e0",
   "metadata": {},
   "outputs": [],
   "source": [
    "import pandas as pd\n",
    "import numpy as np\n",
    "import matplotlib.pyplot as plt\n",
    "from sklearn import datasets\n",
    "from sklearn.preprocessing import StandardScaler\n",
    "from sklearn.metrics import classification_report\n",
    "from sklearn.model_selection import cross_val_predict, train_test_split\n",
    "from sklearn.ensemble import RandomForestClassifier"
   ]
  },
  {
   "cell_type": "code",
   "execution_count": 5,
   "id": "ff261354",
   "metadata": {},
   "outputs": [],
   "source": [
    "data = datasets.fetch_openml('mnist_784', version=1)"
   ]
  },
  {
   "cell_type": "code",
   "execution_count": 6,
   "id": "c94d6298",
   "metadata": {},
   "outputs": [],
   "source": [
    "X, y = data['data'], data['target']"
   ]
  },
  {
   "cell_type": "code",
   "execution_count": 51,
   "id": "5f95c789",
   "metadata": {},
   "outputs": [],
   "source": [
    "y = y.astype(np.uint8)"
   ]
  },
  {
   "cell_type": "code",
   "execution_count": 52,
   "id": "4aa1750d",
   "metadata": {},
   "outputs": [],
   "source": [
    "X_train, y_train, X_test, y_test = X[:60000], y[:60000], X[60000:], y[60000:]"
   ]
  },
  {
   "cell_type": "code",
   "execution_count": 10,
   "id": "54f79fdc",
   "metadata": {},
   "outputs": [],
   "source": [
    "import joblib\n",
    "model = joblib.load('model_97.pkl')"
   ]
  },
  {
   "cell_type": "markdown",
   "id": "ff820667",
   "metadata": {},
   "source": [
    "### Data Augmentation"
   ]
  },
  {
   "cell_type": "code",
   "execution_count": 11,
   "id": "a8f201f8",
   "metadata": {},
   "outputs": [],
   "source": [
    "from scipy.ndimage.interpolation import shift"
   ]
  },
  {
   "cell_type": "markdown",
   "id": "ebfb70ae",
   "metadata": {},
   "source": [
    "### Algo\n",
    "\n",
    "* convert np ndarray\n",
    "* create empty array for augmented data\n",
    "* create empty array for labels\n",
    "* for each row: reshape to a 2d image, append label to labels_array\n",
    "    * apply shift function\n",
    "    * append new array to empty array\n",
    "* concat aug and label array to original data and shuffle"
   ]
  },
  {
   "cell_type": "code",
   "execution_count": 66,
   "id": "37c31c0d",
   "metadata": {},
   "outputs": [],
   "source": [
    "def augmented_data(X, y):\n",
    "    '''this will shift all images in X in different directions subsequently'''\n",
    "    # define some variables\n",
    "    data_arr = X.values\n",
    "    shift_imgs = np.array([])\n",
    "    shift_imgs_lables = []\n",
    "        \n",
    "    # loop through each instance\n",
    "    for ix, x in enumerate(data_arr):\n",
    "\n",
    "        # apply shift function\n",
    "        shift_arr_u = np.reshape(shift(np.reshape(x, (28, 28)), [-1, 0], cval=0), -1)\n",
    "        shift_arr_d = np.reshape(shift(np.reshape(x, (28, 28)), [1, 0], cval=0), -1)\n",
    "        shift_arr_l = np.reshape(shift(np.reshape(x, (28, 28)), [0, 1], cval=0), -1)\n",
    "        shift_arr_r = np.reshape(shift(np.reshape(x, (28, 28)), [0, -1], cval=0), -1)\n",
    "\n",
    "        # append to augment and label array\n",
    "        shift_imgs = np.concatenate([shift_imgs, shift_arr_u, shift_arr_d, shift_arr_r, shift_arr_l])\n",
    "        shift_imgs_lables.append(y[ix])\n",
    "        shift_imgs_lables.append(y[ix])\n",
    "        shift_imgs_lables.append(y[ix])\n",
    "        shift_imgs_lables.append(y[ix])\n",
    "        \n",
    "        # verbose\n",
    "        if ix%500 == 0:\n",
    "            print('{} instanes completed'.format(ix))\n",
    "\n",
    "    # concatenate data\n",
    "    aug_data = np.concatenate([data_arr, shift_imgs])\n",
    "    aug_labels = pd.concat([y, pd.Series(shift_imgs_labels)])\n",
    "    \n",
    "    # shuffle data\n",
    "    X_new = pd.DataFrame(aug_data).sample(frac=1, random_state=42).reset_index(drop=True)\n",
    "    y_new = aug_labels.sample(frac=1, random_state=42).reset_index(drop=True)\n",
    "    \n",
    "    return X_new, y_new\n",
    "    "
   ]
  },
  {
   "cell_type": "code",
   "execution_count": null,
   "id": "d3208a50",
   "metadata": {
    "scrolled": false
   },
   "outputs": [
    {
     "name": "stdout",
     "output_type": "stream",
     "text": [
      "0 instanes completed\n",
      "500 instanes completed\n",
      "1000 instanes completed\n",
      "1500 instanes completed\n",
      "2000 instanes completed\n",
      "2500 instanes completed\n",
      "3000 instanes completed\n",
      "3500 instanes completed\n",
      "4000 instanes completed\n",
      "4500 instanes completed\n",
      "5000 instanes completed\n",
      "5500 instanes completed\n",
      "6000 instanes completed\n",
      "6500 instanes completed\n",
      "7000 instanes completed\n",
      "7500 instanes completed\n",
      "8000 instanes completed\n",
      "8500 instanes completed\n",
      "9000 instanes completed\n",
      "9500 instanes completed\n",
      "10000 instanes completed\n",
      "10500 instanes completed\n",
      "11000 instanes completed\n",
      "11500 instanes completed\n",
      "12000 instanes completed\n",
      "12500 instanes completed\n",
      "13000 instanes completed\n",
      "13500 instanes completed\n",
      "14000 instanes completed\n",
      "14500 instanes completed\n",
      "15000 instanes completed\n",
      "15500 instanes completed\n",
      "16000 instanes completed\n",
      "16500 instanes completed\n",
      "17000 instanes completed\n",
      "17500 instanes completed\n",
      "18000 instanes completed\n",
      "18500 instanes completed\n",
      "19000 instanes completed\n",
      "19500 instanes completed\n",
      "20000 instanes completed\n",
      "20500 instanes completed\n",
      "21000 instanes completed\n",
      "21500 instanes completed\n",
      "22000 instanes completed\n",
      "22500 instanes completed\n",
      "23000 instanes completed\n",
      "23500 instanes completed\n",
      "24000 instanes completed\n",
      "24500 instanes completed\n",
      "25000 instanes completed\n",
      "25500 instanes completed\n",
      "26000 instanes completed\n",
      "26500 instanes completed\n",
      "27000 instanes completed\n",
      "27500 instanes completed\n",
      "28000 instanes completed\n",
      "28500 instanes completed\n",
      "29000 instanes completed\n",
      "29500 instanes completed\n",
      "30000 instanes completed\n",
      "30500 instanes completed\n",
      "31000 instanes completed\n",
      "31500 instanes completed\n",
      "32000 instanes completed\n",
      "32500 instanes completed\n",
      "33000 instanes completed\n",
      "33500 instanes completed\n",
      "34000 instanes completed\n",
      "34500 instanes completed\n",
      "35000 instanes completed\n",
      "35500 instanes completed\n",
      "36000 instanes completed\n",
      "36500 instanes completed\n",
      "37000 instanes completed\n",
      "37500 instanes completed\n",
      "38000 instanes completed\n",
      "38500 instanes completed\n",
      "39000 instanes completed\n",
      "39500 instanes completed\n",
      "40000 instanes completed\n",
      "40500 instanes completed\n",
      "41000 instanes completed\n",
      "41500 instanes completed\n",
      "42000 instanes completed\n",
      "42500 instanes completed\n",
      "43000 instanes completed\n"
     ]
    }
   ],
   "source": [
    "X_new, y_new = augmented_data(X_train, y_train)"
   ]
  },
  {
   "cell_type": "code",
   "execution_count": null,
   "id": "ca443195",
   "metadata": {},
   "outputs": [],
   "source": []
  }
 ],
 "metadata": {
  "kernelspec": {
   "display_name": "Python 3 (ipykernel)",
   "language": "python",
   "name": "python3"
  },
  "language_info": {
   "codemirror_mode": {
    "name": "ipython",
    "version": 3
   },
   "file_extension": ".py",
   "mimetype": "text/x-python",
   "name": "python",
   "nbconvert_exporter": "python",
   "pygments_lexer": "ipython3",
   "version": "3.10.0"
  }
 },
 "nbformat": 4,
 "nbformat_minor": 5
}
